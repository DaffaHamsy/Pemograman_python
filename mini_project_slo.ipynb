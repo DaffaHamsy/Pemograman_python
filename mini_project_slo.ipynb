{
  "nbformat": 4,
  "nbformat_minor": 0,
  "metadata": {
    "colab": {
      "provenance": [],
      "authorship_tag": "ABX9TyMdVji7a1flVs/7DwrzETwx",
      "include_colab_link": true
    },
    "kernelspec": {
      "name": "python3",
      "display_name": "Python 3"
    },
    "language_info": {
      "name": "python"
    }
  },
  "cells": [
    {
      "cell_type": "markdown",
      "metadata": {
        "id": "view-in-github",
        "colab_type": "text"
      },
      "source": [
        "<a href=\"https://colab.research.google.com/github/DaffaHamsy/Pemograman_python/blob/main/mini_project_slo.ipynb\" target=\"_parent\"><img src=\"https://colab.research.google.com/assets/colab-badge.svg\" alt=\"Open In Colab\"/></a>"
      ]
    },
    {
      "cell_type": "code",
      "execution_count": null,
      "metadata": {
        "colab": {
          "base_uri": "https://localhost:8080/"
        },
        "id": "S8oPDCR2g5-c",
        "outputId": "64da9402-6444-4493-ba07-4f34f274d424"
      },
      "outputs": [
        {
          "output_type": "stream",
          "name": "stdout",
          "text": [
            "Mounted at /content/drive\n",
            "Analyzing file: CPA1.xlsx\n",
            "Unique Class Labels: ['A' 'E']\n",
            "SVM Classifier Performance:\n",
            "Accuracy: 0.46\n",
            "Precision: 0.2116\n",
            "Recall: 0.46\n",
            "F1-Score: 0.28986301369863016\n",
            "\n",
            "K-NN Classifier Performance:\n",
            "Accuracy: 0.76\n",
            "Precision: 0.76\n",
            "Recall: 0.76\n",
            "F1-Score: 0.76\n",
            "\n",
            "\n",
            "Analyzing file: CPA2.xlsx\n"
          ]
        },
        {
          "output_type": "stream",
          "name": "stderr",
          "text": [
            "/usr/local/lib/python3.10/dist-packages/sklearn/metrics/_classification.py:1344: UndefinedMetricWarning: Precision is ill-defined and being set to 0.0 in labels with no predicted samples. Use `zero_division` parameter to control this behavior.\n",
            "  _warn_prf(average, modifier, msg_start, len(result))\n"
          ]
        },
        {
          "output_type": "stream",
          "name": "stdout",
          "text": [
            "Unique Class Labels: ['B' 'E']\n",
            "SVM Classifier Performance:\n",
            "Accuracy: 0.46\n",
            "Precision: 0.2116\n",
            "Recall: 0.46\n",
            "F1-Score: 0.28986301369863016\n",
            "\n",
            "K-NN Classifier Performance:\n",
            "Accuracy: 0.82\n",
            "Precision: 0.8210897435897436\n",
            "Recall: 0.82\n",
            "F1-Score: 0.8202167804094742\n",
            "\n",
            "\n",
            "Analyzing file: CPA3.xlsx\n"
          ]
        },
        {
          "output_type": "stream",
          "name": "stderr",
          "text": [
            "/usr/local/lib/python3.10/dist-packages/sklearn/metrics/_classification.py:1344: UndefinedMetricWarning: Precision is ill-defined and being set to 0.0 in labels with no predicted samples. Use `zero_division` parameter to control this behavior.\n",
            "  _warn_prf(average, modifier, msg_start, len(result))\n"
          ]
        },
        {
          "output_type": "stream",
          "name": "stdout",
          "text": [
            "Unique Class Labels: ['A' 'E']\n",
            "SVM Classifier Performance:\n",
            "Accuracy: 0.6666666666666666\n",
            "Precision: 0.44444444444444436\n",
            "Recall: 0.6666666666666666\n",
            "F1-Score: 0.5333333333333333\n",
            "\n",
            "K-NN Classifier Performance:\n",
            "Accuracy: 0.7733333333333333\n",
            "Precision: 0.767056530214425\n",
            "Recall: 0.7733333333333333\n",
            "F1-Score: 0.762298051148301\n",
            "\n",
            "\n",
            "Analyzing file: CPC1.xlsx\n"
          ]
        },
        {
          "output_type": "stream",
          "name": "stderr",
          "text": [
            "/usr/local/lib/python3.10/dist-packages/sklearn/metrics/_classification.py:1344: UndefinedMetricWarning: Precision is ill-defined and being set to 0.0 in labels with no predicted samples. Use `zero_division` parameter to control this behavior.\n",
            "  _warn_prf(average, modifier, msg_start, len(result))\n"
          ]
        },
        {
          "output_type": "stream",
          "name": "stdout",
          "text": [
            "Unique Class Labels: ['A' 'C' 'E']\n",
            "SVM Classifier Performance:\n",
            "Accuracy: 0.30666666666666664\n",
            "Precision: 0.09404444444444443\n",
            "Recall: 0.30666666666666664\n",
            "F1-Score: 0.1439455782312925\n",
            "\n",
            "K-NN Classifier Performance:\n",
            "Accuracy: 0.7066666666666667\n",
            "Precision: 0.7163092592592593\n",
            "Recall: 0.7066666666666667\n",
            "F1-Score: 0.7033254500065694\n",
            "\n",
            "\n",
            "Analyzing file: CPC2.xlsx\n"
          ]
        },
        {
          "output_type": "stream",
          "name": "stderr",
          "text": [
            "/usr/local/lib/python3.10/dist-packages/sklearn/metrics/_classification.py:1344: UndefinedMetricWarning: Precision is ill-defined and being set to 0.0 in labels with no predicted samples. Use `zero_division` parameter to control this behavior.\n",
            "  _warn_prf(average, modifier, msg_start, len(result))\n"
          ]
        },
        {
          "output_type": "stream",
          "name": "stdout",
          "text": [
            "Unique Class Labels: ['A' 'D' 'E']\n",
            "SVM Classifier Performance:\n",
            "Accuracy: 0.30666666666666664\n",
            "Precision: 0.09404444444444443\n",
            "Recall: 0.30666666666666664\n",
            "F1-Score: 0.1439455782312925\n",
            "\n",
            "K-NN Classifier Performance:\n",
            "Accuracy: 0.7333333333333333\n",
            "Precision: 0.7555555555555556\n",
            "Recall: 0.7333333333333333\n",
            "F1-Score: 0.7249486924859319\n",
            "\n",
            "\n",
            "Analyzing file: CPC3.xlsx\n"
          ]
        },
        {
          "output_type": "stream",
          "name": "stderr",
          "text": [
            "/usr/local/lib/python3.10/dist-packages/sklearn/metrics/_classification.py:1344: UndefinedMetricWarning: Precision is ill-defined and being set to 0.0 in labels with no predicted samples. Use `zero_division` parameter to control this behavior.\n",
            "  _warn_prf(average, modifier, msg_start, len(result))\n"
          ]
        },
        {
          "output_type": "stream",
          "name": "stdout",
          "text": [
            "Unique Class Labels: ['B' 'C' 'E']\n",
            "SVM Classifier Performance:\n",
            "Accuracy: 0.30666666666666664\n",
            "Precision: 0.09404444444444443\n",
            "Recall: 0.30666666666666664\n",
            "F1-Score: 0.1439455782312925\n",
            "\n",
            "K-NN Classifier Performance:\n",
            "Accuracy: 0.6666666666666666\n",
            "Precision: 0.6738492063492062\n",
            "Recall: 0.6666666666666666\n",
            "F1-Score: 0.6512121212121212\n",
            "\n",
            "\n",
            "Analyzing file: CPC4.xlsx\n"
          ]
        },
        {
          "output_type": "stream",
          "name": "stderr",
          "text": [
            "/usr/local/lib/python3.10/dist-packages/sklearn/metrics/_classification.py:1344: UndefinedMetricWarning: Precision is ill-defined and being set to 0.0 in labels with no predicted samples. Use `zero_division` parameter to control this behavior.\n",
            "  _warn_prf(average, modifier, msg_start, len(result))\n"
          ]
        },
        {
          "output_type": "stream",
          "name": "stdout",
          "text": [
            "Unique Class Labels: ['B' 'D' 'E']\n",
            "SVM Classifier Performance:\n",
            "Accuracy: 0.30666666666666664\n",
            "Precision: 0.09404444444444443\n",
            "Recall: 0.30666666666666664\n",
            "F1-Score: 0.1439455782312925\n",
            "\n",
            "K-NN Classifier Performance:\n",
            "Accuracy: 0.6266666666666667\n",
            "Precision: 0.628008658008658\n",
            "Recall: 0.6266666666666667\n",
            "F1-Score: 0.6063916083916083\n",
            "\n",
            "\n",
            "Analyzing file: CPC1.xlsx\n",
            "Unique Class Labels: ['A' 'C' 'E']\n",
            "SVM Classifier Performance:\n",
            "Accuracy: 0.30666666666666664\n",
            "Precision: 0.09404444444444443\n",
            "Recall: 0.30666666666666664\n",
            "F1-Score: 0.1439455782312925\n",
            "\n",
            "K-NN Classifier Performance:\n",
            "Accuracy: 0.7066666666666667\n",
            "Precision: 0.7163092592592593\n",
            "Recall: 0.7066666666666667\n",
            "F1-Score: 0.7033254500065694\n",
            "\n",
            "\n"
          ]
        },
        {
          "output_type": "stream",
          "name": "stderr",
          "text": [
            "/usr/local/lib/python3.10/dist-packages/sklearn/metrics/_classification.py:1344: UndefinedMetricWarning: Precision is ill-defined and being set to 0.0 in labels with no predicted samples. Use `zero_division` parameter to control this behavior.\n",
            "  _warn_prf(average, modifier, msg_start, len(result))\n",
            "/usr/local/lib/python3.10/dist-packages/sklearn/metrics/_classification.py:1344: UndefinedMetricWarning: Precision is ill-defined and being set to 0.0 in labels with no predicted samples. Use `zero_division` parameter to control this behavior.\n",
            "  _warn_prf(average, modifier, msg_start, len(result))\n"
          ]
        }
      ],
      "source": [
        "import pandas as pd\n",
        "import numpy as np\n",
        "from sklearn.model_selection import train_test_split, cross_val_score, KFold\n",
        "from sklearn.svm import SVC\n",
        "from sklearn.neighbors import KNeighborsClassifier\n",
        "from sklearn.metrics import accuracy_score, precision_score, recall_score, f1_score\n",
        "\n",
        "# Mount Google Drive\n",
        "from google.colab import drive\n",
        "drive.mount('/content/drive')\n",
        "\n",
        "# Lokasi file Excel di Google Drive\n",
        "file_names = ['CPA1.xlsx', 'CPA2.xlsx', 'CPA3.xlsx', 'CPC1.xlsx', 'CPC2.xlsx', 'CPC3.xlsx', 'CPC4.xlsx', 'CPC1.xlsx']\n",
        "folder_path = '/content/drive/My Drive/Mini Project/'\n",
        "\n",
        "# Kolom yang akan digunakan untuk klasifikasi\n",
        "columns = ['powLv1', 'powLv2', 'powLv3', 'powLv4', 'powLv5', 'kelas']\n",
        "\n",
        "def load_data(file_path):\n",
        "    data = pd.read_excel(file_path)\n",
        "    X = data[columns[:-1]]  # Features\n",
        "    y = data['kelas']  # Target\n",
        "    return X, y\n",
        "\n",
        "def train_test_splitting(X, y, test_size):\n",
        "    X_train, X_test, y_train, y_test = train_test_split(X, y, test_size=test_size, random_state=42)\n",
        "    return X_train, X_test, y_train, y_test\n",
        "\n",
        "def k_fold_cv(X, y, classifier, k=10):\n",
        "    kf = KFold(n_splits=k)\n",
        "    accuracy_scores = cross_val_score(classifier, X, y, cv=kf, scoring='accuracy')\n",
        "    return accuracy_scores\n",
        "\n",
        "def calculate_performance_metrics(y_true, y_pred):\n",
        "    accuracy = accuracy_score(y_true, y_pred)\n",
        "    precision = precision_score(y_true, y_pred, average='weighted')  # Modifikasi di sini\n",
        "    recall = recall_score(y_true, y_pred, average='weighted')  # Modifikasi di sini\n",
        "    f1 = f1_score(y_true, y_pred, average='weighted')  # Modifikasi di sini\n",
        "    return accuracy, precision, recall, f1\n",
        "\n",
        "# Loop untuk membaca dan menganalisis setiap file Excel\n",
        "for file_name in file_names:\n",
        "    file_path = folder_path + file_name\n",
        "    print(\"Analyzing file:\", file_name)\n",
        "\n",
        "    try:\n",
        "        # Load data\n",
        "        X, y = load_data(file_path)\n",
        "\n",
        "        # Print unique class labels\n",
        "        print(\"Unique Class Labels:\", y.unique())\n",
        "\n",
        "        # 75% training, 25% testing\n",
        "        X_train, X_test, y_train, y_test = train_test_splitting(X, y, test_size=0.25)\n",
        "\n",
        "        # Train SVM classifier\n",
        "        svm_classifier = SVC()\n",
        "        svm_classifier.fit(X_train, y_train)\n",
        "\n",
        "        # Train K-NN classifier\n",
        "        knn_classifier = KNeighborsClassifier()\n",
        "        knn_classifier.fit(X_train, y_train)\n",
        "\n",
        "        # Predictions\n",
        "        svm_predictions = svm_classifier.predict(X_test)\n",
        "        knn_predictions = knn_classifier.predict(X_test)\n",
        "\n",
        "        # Performance metrics\n",
        "        svm_accuracy, svm_precision, svm_recall, svm_f1 = calculate_performance_metrics(y_test, svm_predictions)\n",
        "        knn_accuracy, knn_precision, knn_recall, knn_f1 = calculate_performance_metrics(y_test, knn_predictions)\n",
        "\n",
        "        # Print performance metrics\n",
        "        print(\"SVM Classifier Performance:\")\n",
        "        print(\"Accuracy:\", svm_accuracy)\n",
        "        print(\"Precision:\", svm_precision)\n",
        "        print(\"Recall:\", svm_recall)\n",
        "        print(\"F1-Score:\", svm_f1)\n",
        "        print()\n",
        "\n",
        "        print(\"K-NN Classifier Performance:\")\n",
        "        print(\"Accuracy:\", knn_accuracy)\n",
        "        print(\"Precision:\", knn_precision)\n",
        "        print(\"Recall:\", knn_recall)\n",
        "        print(\"F1-Score:\", knn_f1)\n",
        "        print()\n",
        "\n",
        "    except FileNotFoundError:\n",
        "        print(\"File not found:\", file_name)\n",
        "    print()\n"
      ]
    },
    {
      "cell_type": "code",
      "source": [],
      "metadata": {
        "id": "AfGsyHLapS6n"
      },
      "execution_count": null,
      "outputs": []
    }
  ]
}